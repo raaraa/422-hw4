{
 "cells": [
  {
   "cell_type": "code",
   "execution_count": 186,
   "metadata": {},
   "outputs": [],
   "source": [
    "import pandas as pd\n",
    "import os"
   ]
  },
  {
   "cell_type": "code",
   "execution_count": 195,
   "metadata": {},
   "outputs": [],
   "source": [
    "df_ratings = pd.read_csv(\"ml-latest-small/ratings.csv\")"
   ]
  },
  {
   "cell_type": "code",
   "execution_count": 188,
   "metadata": {},
   "outputs": [],
   "source": [
    "df_movies = pd.read_csv(\"ml-latest-small/movies.csv\")"
   ]
  },
  {
   "cell_type": "code",
   "execution_count": 189,
   "metadata": {},
   "outputs": [],
   "source": [
    "#creating directory\n",
    "if not os.path.exists('./hw4.movies/'):\n",
    "            os.makedirs('./hw4.movies/')"
   ]
  },
  {
   "cell_type": "code",
   "execution_count": 194,
   "metadata": {},
   "outputs": [],
   "source": [
    "user_id = 1\n",
    "movie_id = 0\n",
    "f = open('hw4.movies/user1.txt','w')\n",
    "for row in df_ratings.itertuples():\n",
    "    if row[1] == user_id:\n",
    "        movie_id = row[2]\n",
    "        r = df_movies.loc[df_movies['movieId'] == movie_id]\n",
    "        idx = r.index.values[0]\n",
    "        movie = df_movies[\"title\"][idx]\n",
    "        f.write(\"%r\\n\"% movie)\n",
    "    else:\n",
    "        user_id += 1\n",
    "        file_name = 'hw4.movies/user'+str(user_id)+'.txt'\n",
    "        f = open(file_name,'w')\n",
    "f.close()"
   ]
  }
 ],
 "metadata": {
  "kernelspec": {
   "display_name": "Python 3",
   "language": "python",
   "name": "python3"
  },
  "language_info": {
   "codemirror_mode": {
    "name": "ipython",
    "version": 3
   },
   "file_extension": ".py",
   "mimetype": "text/x-python",
   "name": "python",
   "nbconvert_exporter": "python",
   "pygments_lexer": "ipython3",
   "version": "3.4.3"
  }
 },
 "nbformat": 4,
 "nbformat_minor": 2
}
